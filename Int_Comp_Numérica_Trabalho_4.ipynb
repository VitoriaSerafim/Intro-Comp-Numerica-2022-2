{
  "cells": [
    {
      "attachments": {},
      "cell_type": "markdown",
      "metadata": {
        "id": "MSRVgJX_J3Nf"
      },
      "source": [
        "#Trabalho prático # 4\n",
        "##Introdução à Computação Numérica\n",
        "\n",
        "###Tópico: Integração numérica \n",
        "\n",
        "---\n",
        "\n",
        "Nome: Vitória de Souza Serafim\n",
        "\n",
        "\n",
        "---\n",
        "**Instruções:** \n",
        "\n",
        "**Preencha o notebook** com seus dados, seus códigos e **rode todos os códigos** \n",
        "\n",
        "**Inclua  um relatório, na parte final do notebook,** com suas conclusões, respostas, observações e comentários relacionados com os tópicos e questões abordadas nas tarefas.  \n",
        "\n",
        "**A elaboração dos códigos pode ser realizada em duplas, mas o resto do trabalho é individual.**\n",
        "\n",
        "*Se você fez o seu trabalho em dupla inclua essa informação no relatório. Além disso, se você  também recebeu ajuda de um(a) colega/amigo(a) ou consultou/usou informações da internet ou outras fontes, coloque referências à elas no seu relatório.*\n",
        "\n",
        "\n",
        "**Entrega do trabalho:**\n",
        "\n",
        "*Data de entrega: 8/dezembro/2022* \n",
        "\n",
        "---\n"
      ]
    },
    {
      "cell_type": "markdown",
      "metadata": {
        "id": "Ud-A5dLPQsTx"
      },
      "source": [
        "## Tarefa #1\n",
        "\n",
        "Implemente funções em Python para aproximar a integral definida\n",
        "$$\n",
        "I = \\int_a^b f(x)\\,dx,\n",
        "$$\n",
        "usando: \n",
        "i) a regra dos trapézios repetida/composta;\n",
        "ii) a regra de Simpson repetida/composta.\n",
        "\n",
        "a) Considere como parâmetros de entrada o espaçamento $h$ entre os nós (pontos) que serão usados e uma lista com os valores da função nesses nós: $f_j = f(a+j\\, h)$,  $j=0,\\dots,n$.\n",
        "\n",
        "b) Considere como parâmetros de entrada o intervalo $[a, b]$, a função $f$ e a quantidade de nós (pontos) que serão usados.\n",
        "\n",
        "**Observação**: Você precisará implementar 4 funções.\n"
      ]
    },
    {
      "cell_type": "code",
      "execution_count": 3,
      "metadata": {},
      "outputs": [],
      "source": [
        "## Bibliotecas utilizadas no trabalho\n",
        "import math"
      ]
    },
    {
      "cell_type": "code",
      "execution_count": 4,
      "metadata": {},
      "outputs": [],
      "source": [
        "## Resposta corresponde ao Item a)\n",
        "###############################################\n",
        "# implementação do método da regra dos trapézios\n",
        "def met_trapeziosI(f,h):\n",
        "    soma = 0\n",
        "    tam = len(f)-1\n",
        "    for k in range(1,tam):\n",
        "        soma = soma + f[k]\n",
        "    soma = soma * 2\n",
        "    soma = soma + (f[0] + f[tam])\n",
        "    return (h/2) * soma\n",
        "\n",
        "# implementação do método da regra de simpson\n",
        "def met_simpsonI(f,h):\n",
        "    soma = 0\n",
        "    tam = len(f)-1\n",
        "    for i in range(1,tam):\n",
        "        if (i%2 != 0):\n",
        "            soma = soma + (4*f[i])\n",
        "        else:\n",
        "            soma = soma + (2*f[i])\n",
        "    return (h/3) * (soma + f[0] + f[tam])\n",
        "\n",
        "###############################################"
      ]
    },
    {
      "cell_type": "code",
      "execution_count": 5,
      "metadata": {},
      "outputs": [],
      "source": [
        "## Resposta corresponde ao Item b)\n",
        "###############################################\n",
        "# implementação do método da regra dos trapézios\n",
        "def met_trapeziosII(f,a,b,n):\n",
        "    h = (b - a)/n\n",
        "    soma = 0\n",
        "    for k in range(1,n):\n",
        "        soma = soma + f(a + k * h)\n",
        "    soma = soma * 2\n",
        "    soma = soma + (f(a) + f(b))\n",
        "    return (h/2) * soma\n",
        "\n",
        "# implementação do método da regra de simpson\n",
        "def met_simpsonII(f,a,b,n):\n",
        "    h = (b - a)/n\n",
        "    soma = f(a) + f(b)\n",
        "    for i in range(1,n):\n",
        "        k = a + i * h\n",
        "        if (i%2 != 0):\n",
        "            soma = soma + (4*f(k))\n",
        "        else:\n",
        "            soma = soma + (2*f(k))\n",
        "    return (h/3) * soma "
      ]
    },
    {
      "cell_type": "markdown",
      "metadata": {
        "id": "Dt1t2lyEkP7Z"
      },
      "source": [
        "##Tarefa #2: Teste as funções implementadas\n",
        "\n",
        "a) Procure uma função $f$ cuja integral definida pode ser calculada analiticamente (de forma exata) no intervalo escolhido.\n",
        "\n",
        "b) Obtenha aproximações do valor da integral definida dessa função considerando $n=10$, $50$, $100$ e $200$ (note que a quantidade de nós em cada caso será igual a $n+1$). Para cada valor de $n$ obtenha aproximações usando suas implementações das regras dos trapézios e de Simpson.  \n",
        "\n",
        "c) Determine os erros absolutos associados com as aproximações obtidas no item a). \n",
        "\n",
        "d) Discuta e explique os resultados obtidos em b) e c)."
      ]
    },
    {
      "cell_type": "code",
      "execution_count": 6,
      "metadata": {},
      "outputs": [
        {
          "name": "stdout",
          "output_type": "stream",
          "text": [
            "Resultado obtido com a testagem das 4 funções implementadas\n",
            "metodo I - trapz: 24.0\n",
            "metodo I - spson: 24.0\n",
            "\n",
            "metodo II - trapz: 24.0\n",
            "metodo II - spson: 24.0\n"
          ]
        }
      ],
      "source": [
        "#Função utilizada para testar as as implementações\n",
        "def f(x):\n",
        "    return 2*x\n",
        "#valores do intervalo [a,b], n o número de nós e h o espaçamento\n",
        "a,b = 1,5\n",
        "n = 2\n",
        "h = (b - a)/n\n",
        "\n",
        "# lista com os valores da função de acordo com o espaçamento h\n",
        "valores_f =[f(1),f(3),f(5)]\n",
        "\n",
        "print(\"Resultado obtido com a testagem das 4 funções implementadas\")\n",
        "print(f\"metodo I - trapz:\",met_trapeziosI(valores_f,h))\n",
        "print(f\"metodo I - spson:\",met_simpsonI(valores_f, h))\n",
        "print(\"\")\n",
        "print(f\"metodo II - trapz:\",met_trapeziosII(f,a,b,n))\n",
        "print(f\"metodo II - spson:\",met_simpsonII(f,a,b,n))\n"
      ]
    },
    {
      "cell_type": "code",
      "execution_count": 7,
      "metadata": {},
      "outputs": [],
      "source": [
        "#lista com os nós a serem utilizados pelas funções para cada teste\n",
        "nos = [10,50,100,200]"
      ]
    },
    {
      "cell_type": "code",
      "execution_count": 8,
      "metadata": {},
      "outputs": [
        {
          "name": "stdout",
          "output_type": "stream",
          "text": [
            "Valores para as implementações das funções usando um intervalo, e a quantidade de nós.\n",
            "tpz para 10 nós: 24.0\n",
            "spson para 10 nós: 24.0\n",
            "\n",
            "tpz para 50 nós: 24.0\n",
            "spson para 50 nós: 24.0\n",
            "\n",
            "tpz para 100 nós: 24.0\n",
            "spson para 100 nós: 24.0\n",
            "\n",
            "tpz para 200 nós: 24.000000000000004\n",
            "spson para 200 nós: 24.000000000000004\n",
            "\n"
          ]
        }
      ],
      "source": [
        "a,b = 1,5\n",
        "n = 2\n",
        "print(\"Valores para as implementações das funções usando um intervalo, e a quantidade de nós.\")\n",
        "for n in nos:\n",
        "    print(f\"tpz para\",n,\"nós:\",met_trapeziosII(f,a,b,n))\n",
        "    print(f\"spson para\",n,\"nós:\",met_simpsonII(f,a,b,n))\n",
        "    print(\"\")"
      ]
    },
    {
      "cell_type": "code",
      "execution_count": 9,
      "metadata": {},
      "outputs": [
        {
          "name": "stdout",
          "output_type": "stream",
          "text": [
            "Valores para as implementações das funções usando um intervalo, e a quantidade de nós.\n",
            "tpz para 10 nós: 24.0\n",
            "spson para 10 nós: 24.0\n",
            "\n",
            "tpz para 50 nós: 24.00000000000001\n",
            "spson para 50 nós: 24.000000000000018\n",
            "\n",
            "tpz para 100 nós: 24.00000000000001\n",
            "spson para 100 nós: 24.00000000000002\n",
            "\n",
            "tpz para 200 nós: 24.20039999999999\n",
            "spson para 200 nós: 24.13359999999999\n",
            "\n"
          ]
        }
      ],
      "source": [
        "def func(n):\n",
        "    lista = [f(1)]\n",
        "    h = (b - a)/n\n",
        "    i = 1\n",
        "    while(i < 5):\n",
        "        i += h\n",
        "        lista.append(f(i))\n",
        "    return lista\n",
        "        \n",
        "print(\"Valores para as implementações das funções usando um intervalo, e a quantidade de nós.\")\n",
        "for n in nos:\n",
        "    h = (b - a)/n\n",
        "    print(f\"tpz para\",n,\"nós:\",met_trapeziosI(func(n),h))\n",
        "    print(f\"spson para\",n,\"nós:\",met_simpsonI(func(n),h))\n",
        "    print(\"\")"
      ]
    },
    {
      "cell_type": "markdown",
      "metadata": {
        "id": "ctpe52U3VFkc"
      },
      "source": [
        "##Tarefa #3: Aplicação\n",
        "\n",
        "A **função erro** é definida como\n",
        "$$\n",
        "\\mathrm{erf}(x) = \\frac{2}{\\sqrt{\\pi}}\\int_0^x \\mathrm{e}^{-t^2}\\,dt.\n",
        "$$\n",
        "\n",
        "a) Implemente uma função que determine o valor aproximado de $\\mathrm{erf}(x)$ para qualquer entrada $x$ com um erro absoluto menor que $10^{-8}$. Explique as ideias básicas da sua implementação.\n",
        "\n",
        "b) Teste a função implementada comparando com os seguintes valores*: \n",
        "\n",
        "i) $\\mathrm{erf}(-2) = -0.9953222650189527$, \n",
        "\n",
        "ii) $\\mathrm{erf}(0.5) = 0.5204998778130465$, \n",
        "\n",
        "iii) $\\mathrm{erf}(1) = 0.8427007929497149$, \n",
        "\n",
        "iv) $\\mathrm{erf}(5) = 0.9999999999984625$.\n",
        "\n",
        "*Os valores apresentados foram calculados com 16 dígitos de precisão.\n",
        "\n",
        "\n"
      ]
    },
    {
      "cell_type": "code",
      "execution_count": 10,
      "metadata": {},
      "outputs": [],
      "source": [
        "## Tarefa 03\n",
        "# Item a)\n",
        "\n",
        "def f(x):\n",
        "    return math.e**(-x**(2))\n",
        "\n",
        "def erf(aprx):\n",
        "    return (2/math.sqrt(math.pi)) * aprx\n",
        "\n",
        "def Teste(met,x,valor_real):\n",
        "    n = 1\n",
        "    while True:\n",
        "        aprox = met(f,0,x,n)\n",
        "        if(abs( erf(aprox) -  valor_real) < 10**(-8)):\n",
        "            print('Quantidade de nós suficiente para erro < 10^-8:',n)\n",
        "            print(\"Resultado encontrado:\",erf(aprox))\n",
        "            break\n",
        "        else: n+=1\n",
        "\n"
      ]
    },
    {
      "cell_type": "code",
      "execution_count": 13,
      "metadata": {},
      "outputs": [
        {
          "name": "stdout",
          "output_type": "stream",
          "text": [
            "Erf( -2 )\n",
            "Quantidade de nós suficiente para erro < 10^-8: 54\n",
            "Resultado encontrado: -0.9953222563764973\n",
            "\n",
            "Erf( 0.5 )\n",
            "Quantidade de nós suficiente para erro < 10^-8: 20\n",
            "Resultado encontrado: 0.5204998873542699\n",
            "\n",
            "Erf( 1 )\n",
            "Quantidade de nós suficiente para erro < 10^-8: 32\n",
            "Resultado encontrado: 0.8427008017449317\n",
            "\n",
            "Erf( 5 )\n",
            "Quantidade de nós suficiente para erro < 10^-8: 14\n",
            "Resultado encontrado: 0.9999999973510826\n",
            "\n"
          ]
        }
      ],
      "source": [
        "## Tarefa 03\n",
        "# Item b)\n",
        "x = [-2,0.5,1,5] \n",
        "valores =[-0.9953222650189527,0.5204998778130465,0.8427007929497149,0.9999999999984625]\n",
        "\n",
        "for i in range(4):\n",
        "    print(\"Erf(\",x[i],\")\")\n",
        "    Teste(met_simpsonII,x[i],valores[i])\n",
        "    print(\"\")"
      ]
    },
    {
      "attachments": {},
      "cell_type": "markdown",
      "metadata": {
        "id": "isWQBJ32XORa"
      },
      "source": [
        "## Relatório\n",
        "A explicação do desenvolvimento e implementação das tarefas foi feita no próprio código.\n",
        "Os algoritmos das regras de Simpson e dos Trapézios foram retirados dos slides da aula de Integração Numérica - Prof. Daniel G. Alfaro\n",
        "\n",
        "T3 - Implementação da ERF()\n",
        "\n",
        "A melhor estratégia para construir a função erro, é utilizando o método de simpson. A regra de Simpson calcula a área abaixo da curva da função, interpolando os intervalos por polinômios de grau 2, enquanto que a regra dos Trapézios calcula a área utilizando de retas. Então a melhor opção para calcular o erf() da função descrita no enunciado (função de grau 2) é a regra de Simpson."
      ]
    }
  ],
  "metadata": {
    "colab": {
      "provenance": []
    },
    "gpuClass": "standard",
    "kernelspec": {
      "display_name": "Python 3",
      "language": "python",
      "name": "python3"
    },
    "language_info": {
      "codemirror_mode": {
        "name": "ipython",
        "version": 3
      },
      "file_extension": ".py",
      "mimetype": "text/x-python",
      "name": "python",
      "nbconvert_exporter": "python",
      "pygments_lexer": "ipython3",
      "version": "3.10.4"
    },
    "vscode": {
      "interpreter": {
        "hash": "5fe3e6f0cdaab8afdc61c52912fda83f7c0a71baaea1897dd7498e2df01e69ec"
      }
    }
  },
  "nbformat": 4,
  "nbformat_minor": 0
}
