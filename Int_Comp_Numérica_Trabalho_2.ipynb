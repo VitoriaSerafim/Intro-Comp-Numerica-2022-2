{
  "cells": [
    {
      "cell_type": "markdown",
      "metadata": {
        "id": "MSRVgJX_J3Nf"
      },
      "source": [
        "#Trabalho prático # 2\n",
        "##Introdução à Computação Numérica\n",
        "\n",
        "###Tópico: Diferenciação numérica e Polinômios de Taylor \n",
        "\n",
        "---\n",
        "\n",
        "Nome: Vitória de Souza Serafim\n",
        "\n",
        "DRE: 120035369\n",
        "\n",
        "\n",
        "---\n",
        "\n",
        "**Instruções:** \n",
        "\n",
        "**Preencha o notebook** com seus dados, seus códigos e **rode todos os códigos** \n",
        "\n",
        "**Inclua  um relatório, na parte final do notebook,** com suas conclusões, respostas, observações e comentários relacionados com os tópicos e questões abordadas nas tarefas.  \n",
        "\n",
        "**A elaboração dos códigos pode ser realizada em duplas, mas o resto do trabalho é individual.**\n",
        "\n",
        "*Se você fez o seu trabalho em dupla inclua essa informação no relatório. Além disso, se você  também recebeu ajuda de um(a) colega/amigo(a) ou consultou/usou informações da internet ou outras fontes, coloque referências à elas no seu relatório.*\n",
        "\n",
        "\n",
        "**Entrega do trabalho:**\n",
        "\n",
        "*Data de entrega: 13/outubro/2022* \n",
        "\n",
        "---\n"
      ]
    },
    {
      "cell_type": "markdown",
      "metadata": {
        "id": "Ud-A5dLPQsTx"
      },
      "source": [
        "## Tarefa #1: Aproximando derivadas.\n",
        "\n",
        "As seguintes fórmulas fornecem aproximações por diferenças finitas das derivadas de primeira, segunda e terceira ordens com erros de ordem quadrática. \n",
        "\n",
        "i)  \n",
        "$$f'(x) =  \\frac{-f(x+2\\Delta x) + 4f(x+\\Delta x) - 3 f(x)}{2\\Delta x} + \\mathcal{O}(\\Delta x)^2$$\n",
        "$$f'(x) = \\frac{f(x+\\Delta x)-f(x-\\Delta x)}{2\\Delta x}+\\mathcal{O}(\\Delta x)^2$$\n",
        "ii)\n",
        "$$f''(x) = \\frac{-f(x+3\\Delta x)+4f(x+2\\Delta x)-5f(x+\\Delta x)+2f(x)}{(\\Delta x)^2}+\\mathcal{O}(\\Delta x)^2$$\n",
        "$$f''(x) = \\frac{f(x+\\Delta x)-2f(x)+f(x-\\Delta x)}{(\\Delta x)^2}+\\mathcal{O}(\\Delta x)^2$$\n",
        "iii) \n",
        "$$f'''(x) = \\frac{-3f(x+4\\Delta x)+14f(x+3\\Delta x)-24f(x+2\\Delta x)+18f(x+\\Delta x)-5f(x)}{2(\\Delta x)^3}+\\mathcal{O}(\\Delta x)^2$$ \n",
        "$$f'''(x) = \\frac{f(x+2\\Delta x)-2f(x+\\Delta x)+2f(x-\\Delta x)-f(x-2\\Delta x)}{2(\\Delta x)^3}+\\mathcal{O}(\\Delta x)^2$$ \n",
        "\n",
        "a) Prove duas das fórmulas acima. Faça o desenvolvimento no seu caderno.\n"
      ]
    },
    {
      "cell_type": "markdown",
      "metadata": {
        "id": "ajTsupoZiP2b"
      },
      "source": [
        "#RESPOSTA DA TAREFA #1\n",
        "\n",
        "-----------------------------------------------------------------------------\n",
        "I) \n",
        "$$\n",
        "f'(x) =  \\frac{-f(x+2\\Delta x) + 4f(x+\\Delta x) - 3 f(x)}{2\\Delta x} + \\mathcal{O}(\\Delta x)^2\n",
        "$$\n",
        "\n",
        "Pela expansão de taylor, temos a segunte aproximação linear:\n",
        "\n",
        "$$\n",
        "f'(x) \\approx  \\frac{f(x_0+\\Delta x) - f(x_0)}{\\Delta x}\n",
        "$$\n",
        "\n",
        "Assim, podemos reescrever nossa formula da seguinte maneira\n",
        "\n",
        "$$\n",
        "f'(x) =  \\frac{-f(x) - 2f'(x)\\Delta x + 4f(x)+ 4f'(x)\\Delta x - 3 f(x)}{2\\Delta x}\n",
        "$$\n",
        "\n",
        "Simplificando a expressão, obtemos o seguinte resultado:\n",
        "\n",
        "$$\n",
        "\\rightarrow \\frac{2f'(x)\\Delta}{2\\Delta x} = \\frac{f(x+\\Delta x)-f(x-\\Delta x)}{2\\Delta x}\n",
        "$$\n",
        "\n",
        "Logo, provamos que a igualdade é verdadeira. \n",
        "\n",
        "---------------------------------------------------------------------\n",
        "\n",
        "II) \n",
        "\n",
        "A fórmula apresentada é uma equação centrada, assim para encontrar a aproximação dela podemos calcular a média entre as aproximações avançada e atrasada. Temos então:\n",
        "\n",
        "$$\n",
        "f''(x) \\approx  \\frac{f'(x_0+\\Delta x) - f'(x_0)}{\\Delta x} \n",
        "$$\n",
        "$$\n",
        " \\rightarrow \\frac{-f'(x)-3f'(x)\\Delta x + 4f'(x)+8f'(x)\\Delta x-5f'(x)+5f'(x)\\Delta x+2f(x)}{\\Delta x}\n",
        "$$\n",
        "\n",
        "$$\n",
        " \\rightarrow \\frac{f'(x)-3f'(x)\\Delta x +4(f'(x)+2f'(x)\\Delta x) - 5(f'(x)-f'(x) \\Delta x) }{\\Delta x}\n",
        "$$\n",
        "\n",
        "$$\n",
        " \\rightarrow  \\frac{ f'(x) - f'(x) \\Delta x - f'(x) + f'(x)\\Delta x}{\\Delta x}\n",
        "$$\n",
        "\n",
        "$$\n",
        " \\rightarrow  \\frac{ f'(x - \\Delta x) - f'(x + \\Delta x)}{\\Delta x}\n",
        "$$\n",
        "\n",
        "$$\n",
        " \\rightarrow   \\frac{ \\frac{  f'(x + \\Delta x) - f'(x)}{\\Delta x} - \\frac{ f'(x) - f'(x - \\Delta x)}{\\Delta x}}{\\Delta x} \n",
        "$$\n",
        "\n",
        "$$\n",
        " \\rightarrow \\frac{f(x+\\Delta x)-2f(x)+f(x-\\Delta x)}{(\\Delta x)^2}\n",
        "$$\n",
        "\n",
        "Logo, provamos que a igualdade é verdadeira."
      ]
    },
    {
      "cell_type": "markdown",
      "metadata": {
        "id": "Dt1t2lyEkP7Z"
      },
      "source": [
        "##Tarefa #2\n",
        "\n",
        "a) Implemente funções em Python para cada uma das aproximações apresentadas na Tarefa #1. Usando como parâmetros de entrada a função  𝑓, o ponto 𝑥 e o incremento  Δ𝑥 .\n",
        "\n",
        "b) Implemente funções em Python para cada uma das aproximações apresentadas  na Tarefa #1. Use como parâmetros de entrada uma lista com os valores  $𝑓_𝑗=𝑓(𝑥+𝑗\\Delta x)$  que serão utilizados no cálculo, e o incremento  Δ𝑥.\n",
        "\n",
        "c) Teste a acurácia dessas fórmulas aproximando as derivadas de  $𝑓(𝑥)=\\mathrm{sen}(0.5\\sqrt{x})/x$  em alguns pontos do intervalo  (0,1)  e diferentes valores de  Δ𝑥 . Determine os erros absolutos dessas aproximações. Explique os resultados observados."
      ]
    },
    {
      "cell_type": "code",
      "execution_count": 241,
      "metadata": {},
      "outputs": [],
      "source": [
        "#importação das bibliotecas\n",
        "import math\n",
        "import random\n",
        "import numpy as np"
      ]
    },
    {
      "cell_type": "code",
      "execution_count": 254,
      "metadata": {
        "colab": {
          "base_uri": "https://localhost:8080/"
        },
        "id": "d7cMa1luhbq8",
        "outputId": "cd20233a-93ca-4cc4-a15c-f87157037b6c"
      },
      "outputs": [],
      "source": [
        "##################################################################################\n",
        "#------------------------------- LETRA A) e B) --------------------------------\n",
        "#Derivadas da função de 1º ,2º e 3º ordem\n",
        "def f(x):\n",
        "  return  math.sin(math.sqrt(x)/2)/x\n",
        "\n",
        "def dxPrimeira(x):\n",
        "  res = 0.5 * x * math.cos(0.5 * (math.sqrt(x))) -  (math.sin(0.5 * (math.sqrt(x))))/x**2\n",
        "  return res\n",
        "\n",
        "def dxSegunda(x):\n",
        "  res = ( (2-(0.25*x**2)) * math.sin(0.5 * math.sqrt(x)) - x * math.cos(0.5 * math.sqrt(x)) )/x**3\n",
        "  return res\n",
        "def dxTerceira(x):\n",
        "  res = ( (3 * x - 0.125* x **3) * math.cos(0.5 * x) + (0.75 * x**2 - 6 ) * math.sin(0.5 * x) ) / x**4\n",
        "  return res\n",
        "##################################################################################\n",
        "\n",
        "#Implementação das duas formas da aprox. da primeira derivada\n",
        "def aproxPrimeira(f, x, d):\n",
        "    res = (-f(x + 2 * d) + 4 * f(x + d) -3 * f(x)) / (2 * d)\n",
        "    return res\n",
        "\n",
        "def aprox1Simples(f, x, d):\n",
        "    return (f(x + d)- f(x-d)) / (2*d)\n",
        "    \n",
        "#Implementação das duas formas da aprox. da segunda derivada\n",
        "def aproxSegunda(f, x, d):\n",
        "    res = ( -f(x + 3 * d) + 4 * f(x + 2 * d) - 5 * f(x + d) + 2 * f(x) ) / (d**2)\n",
        "    return res\n",
        "\n",
        "def aprox2Simples(f, x, d):\n",
        "    return (f(x + d)- 2 * f(x) + f(x - d)) / (d**2)\n",
        "\n",
        "#Implementação das duas formas da aprox. da terceira derivada\n",
        "def aproxTerceira(f, x, d):\n",
        "    res = (-3 * f(x + 4 * d) + 14 * f(x + 3 * d) - 24 * f(x + 2 * d) + 18 * f(x + d) -5*  f(x) ) / (2*(d**3))\n",
        "    return res\n",
        "\n",
        "def aprox3Simples(f, x, d):\n",
        "    return (f(x + 2*d)- 2 * f(x + d) + 2 * f(x - d) -f(x - 2 * d)) / (2 * (d**3))\n",
        "\n",
        "##################################################################################"
      ]
    },
    {
      "cell_type": "code",
      "execution_count": 269,
      "metadata": {},
      "outputs": [
        {
          "name": "stdout",
          "output_type": "stream",
          "text": [
            "Erro absoluto 1º derivada:\n",
            "Método I [0.8555481480569517, 0.8553521430361152, 0.8551560608097647, 0.8549599013844597, 0.8547636647667584]\n",
            "Método II [0.8555481475073219, 0.8553521424867491, 0.8551560602607039, 0.8549599008356348, 0.8547636642181833]\n",
            "\n",
            "Erro absoluto 2º derivada:\n",
            "Método I [0.037210722130967946, 0.037204492704586256, 0.037198265175222164, 0.037192039597797336, 0.03718581591621144]\n",
            "Método II [0.03721072165912316, 0.03720449209396359, 0.03719826484215526, 0.0371920390704414, 0.0371858153888555]\n",
            "\n",
            "Erro absoluto 3º derivada:\n",
            "Método I [0.005138814854512423, 0.00513286105355517, 0.005126851447711851, 0.005120869304744984, 0.00511491462569025]\n",
            "Método II [0.005139106288056387, 0.005132555742223398, 0.005127170636831431, 0.005121008082623062, 0.005115178303658599]\n",
            "\n"
          ]
        }
      ],
      "source": [
        "#------------------------------- LETRA C) --------------------------------\n",
        "\n",
        "erroPrimeira =[[],[]]\n",
        "erroSegunda = [[],[]]\n",
        "erroTerceira =[[],[]]\n",
        "lista = []\n",
        "\n",
        "def Calcula():   \n",
        "    delta = 0.001\n",
        "    # Escolhe 1 numero randomico e cria uma lista com o espaçamento de delta,e essa lista tem tamanho 5\n",
        "    lista.append(random.randint(1,10))\n",
        "    for i in range(1,5):\n",
        "      lista.append( lista[i-1] + delta) \n",
        "\n",
        "    for index in range(1,4):\n",
        "      aprox = []\n",
        "      aproxDireta = []\n",
        "      # calcula a derivada utilizando ambas formulas e guarda em uma lista\n",
        "      for x in lista: # para cada x na lista será calculado as aproximações\n",
        "        if index == 1: #Derivada de 1º Ordem\n",
        "          aprox.append(aproxPrimeira(f, x, delta))\n",
        "          aproxDireta.append(aprox1Simples(f, x, delta)) \n",
        "          # calcula o erro absoluto para cada valor disponibilizado anteriormente\n",
        "          erroPrimeira[0].append(abs(dxPrimeira(x) - aproxDireta[len(aproxDireta)-1]))\n",
        "          erroPrimeira[1].append(abs(dxPrimeira(x) - aprox[len(aprox)-1]))\n",
        "\n",
        "        elif index == 2: #Derivada de 2º Ordem\n",
        "          aprox.append(aproxSegunda(f, x, delta))\n",
        "          aproxDireta.append(aprox2Simples(f, x, delta)) \n",
        "          # calcula o erro absoluto para cada valor disponibilizado anteriormente\n",
        "          erroSegunda[0].append(abs(dxSegunda(x) - aproxDireta[len(aproxDireta)-1]))\n",
        "          erroSegunda[1].append(abs(dxSegunda(x) - aprox[len(aprox)-1]))\n",
        "      \n",
        "        elif index == 3: #Derivada de 3º Ordem   \n",
        "          aprox.append(aproxTerceira(f, x, delta))\n",
        "          aproxDireta.append(aprox3Simples(f, x, delta))\n",
        "          # calcula o erro absoluto para cada valor disponibilizado anteriormente\n",
        "          erroTerceira[0].append(abs(dxTerceira(x) - aproxDireta[len(aproxDireta)-1])) \n",
        "          erroTerceira[1].append(abs(dxTerceira(x) - aprox[len(aprox)-1]))  \n",
        "        \n",
        "\n",
        "Calcula()\n",
        "\n",
        "for index in range(1,4):\n",
        "\n",
        "        print('Erro absoluto '+ str(index) + 'º derivada:')\n",
        "        if index == 1:\n",
        "          print(\"Método I\",erroPrimeira[0])\n",
        "          print(\"Método II\",erroPrimeira[1])\n",
        "\n",
        "        elif index == 2:\n",
        "         print(\"Método I\",erroSegunda[0])\n",
        "         print(\"Método II\",erroSegunda[1])\n",
        "\n",
        "        elif index == 3:   \n",
        "          print(\"Método I\",erroTerceira[0])\n",
        "          print(\"Método II\",erroTerceira[1])\n",
        "        print(\"\")\n",
        "##################################################################################"
      ]
    },
    {
      "cell_type": "markdown",
      "metadata": {
        "id": "ctpe52U3VFkc"
      },
      "source": [
        "##Tarefa #3: Aplicações\n",
        "\n",
        "a) A velocidade  $v$ (em  $m/s$) do ar que passa sobre uma superfície plana é medida em vários pontos a uma distância $y$ (em $m$) dessa superfície. Determine a tensão de cisalhamento $\\tau$ (em $N/m^2$) na superfície $y = 0$, usando a Lei de Newton da viscosidade $$\\tau = \\mu\\frac{dv}{dy}.$$\n",
        "Considere a viscosidade dinâmica $\\mu = 1.8\\cdot 10^{-5}\\;N\\cdot s/m^2$, e os dados da seguinte tabela.\n",
        "\n",
        "![Screen Shot 2022-10-05 at 5.43.56 PM.png](data:image/png;base64,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)\n",
        "\n",
        "\n",
        "b) Para analisar o comportamento de uma viga uniforme sob o efeito de uma carga distribuída são usadas as seguintes equações:\n",
        "\\begin{align*}\n",
        "\\frac{dy}{dx} &= \\theta(x), & \\frac{d\\theta}{dx} &= \\frac{M(x)}{E I}\\\\ \n",
        "\\frac{d M}{dx} &= V(x), & \\frac{d V}{dx} &= -w(x),\n",
        "\\end{align*}\n",
        "onde $x$ é a distância ao longo da viga (em $m$), $y$ a  flexão da viga (em $m$), $\\theta(x)$ a inclinação (adimensional), $E$ o módulo de Young (em $Pa = N/m^2$), $I$ o momento de inércia (em $m^4$), $M(x)$ o momento fletor (em $N\\cdot m$), $V(x)$ a tensão de cisalhamento (em $N$), e $w(x)$ a carga distribuída (em $N/m$).\n",
        "\n",
        "Use os dados das medições, em vários pontos, da flexão de uma viga uniforme com uma extremidade fixa apresentados na seguinte tabela para determinar aproximadamente a inclinação, o momento fletor e a tensão de cisalhamento nesses pontos da viga. Considere as seguintes características da viga $E = 200\\; GPa$ e $I = 0.0003\\; m^4$.\n",
        "\n",
        "![Screen Shot 2022-10-06 at 9.23.23 AM.png](data:image/png;base64,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)\n",
        "\n",
        "Em qual ponto dessa viga haverá um maior risco de fratura? Justifique.\n",
        "\n",
        "**Observação**: Sempre que possível use aproximações de segunda ordem e dê preferência às fórmulas centradas."
      ]
    },
    {
      "cell_type": "code",
      "execution_count": 272,
      "metadata": {
        "colab": {
          "base_uri": "https://localhost:8080/"
        },
        "id": "cWYW9alXZ125",
        "outputId": "6b71c079-b0b1-49b0-e19f-6897d33b5d9d"
      },
      "outputs": [
        {
          "name": "stdout",
          "output_type": "stream",
          "text": [
            "A tensão de cisalhamento na superficie y = 0 é de: 25215000.0\n"
          ]
        }
      ],
      "source": [
        "#Exercício 03\n",
        "#3 - a)\n",
        "\n",
        "#importações necessárias\n",
        "import numpy as np\n",
        "\n",
        "## calculando as diferenças entre os pontos, sabe-se que DeltaX vale 0,006\n",
        "d = 0.006\n",
        "\n",
        "tabelaV = [0,0.002,0.006,0.012,0.018,0.024]\n",
        "tabelaY = [0,0.287,0.899,1.915,3.048,4.299]\n",
        "mi = (1.8) * (10**5)\n",
        "\n",
        "### Derivada que utilizaremos no cálculo\n",
        "\n",
        "def derivada(ponto,X, Y):\n",
        "    res = (-Y[X.index(ponto + 2 * d)] + 4 * Y[X.index(ponto+d)] - 3 * Y[X.index(ponto)]) / (2 * d)\n",
        "    return res\n",
        "\n",
        "tensao = mi * (derivada(0,tabelaV,tabelaY)) ## ponto analisado é na superficie igual a zero\n",
        "print(\"A tensão de cisalhamento na superficie y = 0 é de: \" + str(tensao))"
      ]
    },
    {
      "cell_type": "code",
      "execution_count": 271,
      "metadata": {
        "colab": {
          "base_uri": "https://localhost:8080/"
        },
        "id": "QbG_27yyPAPj",
        "outputId": "4ccfdd8e-16f7-4ebe-e2aa-a656a6dfb9c7"
      },
      "outputs": [
        {
          "name": "stdout",
          "output_type": "stream",
          "text": [
            "                                         TABELA DE DADOS\n",
            "\n",
            "      INCLINAÇÃO                MOMENTO FLETOR            CARGA DISTRIBUIDA              TENSÃO\n",
            "\n",
            "             -0.6856   |   -0.09262933333333333   |    -0.48863762962962976    |    -0.24701155555555562\n",
            " -1.2645333333333333   |   -0.18525866666666668   |     -0.9772752592592594    |    -0.06377244444444446\n",
            " -2.2824000000000004   |   -0.14045866666666668   |    0.038229333333332484    |    0.11229866666666682\n",
            " -3.0370666666666666   |   -0.10103466666666656   |    0.040960000000001884    |    0.09745066666666662\n",
            "  -3.563333333333333   |   -0.06737066666666672   |     0.04460088888888642    |    0.08140800000000006\n",
            " -3.8987999999999996   |   -0.03997866666666652   |     0.04975881481481882    |    0.06371555555555534\n",
            "  -4.084933333333333   |   -0.01958400000000021   |     0.05157925925925625    |    0.04471466666666627\n",
            "  -4.166266666666668   |   -0.00644266666666681   |     0.07054222222222219    |    0.02181688888888907\n",
            "  -4.186400000000002   |   -0.003221333333333405   |     0.03527111111111108    |    0.008590222222222414\n",
            "\n",
            "Resposta: Haverá maiores chances de fratura no terceiro ponto de avaliação, onde existe a maior tensão de cisalhamento da viga.\n"
          ]
        }
      ],
      "source": [
        "#Exercício 03\n",
        "#3 - b)\n",
        "\n",
        "## Informações que conseguimos através do enunciado da questão\n",
        "\n",
        "tabelaX = [0, 0.375, 0.75, 1.125, 1.5, 1.875, 2.25, 2.625, 3]\n",
        "tabelaY = [0, -0.2571, -0.9484, -1.9689, -3.2262, -4.6414, -6.1503, -7.7051, -9.275]\n",
        "E = 200\n",
        "I = 0.0003\n",
        "DeltaX = 0.375\n",
        "momentoFletor = []\n",
        "Inclinacao = []\n",
        "tensao = []\n",
        "cargaDistribuida = []\n",
        "### Derivadas que utilizaremos nos cálculos\n",
        "\n",
        "def derivada1_centrada(X , F):\n",
        "    return (F[X + 1]- F[X - 1]) / (2*DeltaX)\n",
        "\n",
        "def derivada1_avancada(X, F):\n",
        "    return (F[X + 1]- F[X]) / DeltaX\n",
        "\n",
        "def derivada1_atrasada(X, F):\n",
        "    return (F[X] - F[X - 1]) / DeltaX\n",
        "\n",
        "def derivada2_centrada(X, F):\n",
        "    return (F[X + 1]- 2 * F[X] + F[X - 1]) / (DeltaX**2)    \n",
        "\n",
        "## A iteração ocorrerá para cada valor de X que está na tabela dada no enunciado\n",
        "\n",
        "for X in range(0,9):\n",
        "  if X == 0:\n",
        "   Inclinacao.append(derivada1_avancada(X, tabelaY)) # utilizamos a avançada pois é o primeiro elemento\n",
        "  elif X == 8:\n",
        "    Inclinacao.append(derivada1_atrasada(X, tabelaY)) # utilizamos a atrasada pois é o último elemento\n",
        "  else:   \n",
        "    Inclinacao.append(derivada1_centrada(X, tabelaY)) # para o resto da tabela é preferivel utilizar a centrada pois oferece uma melhor aproximação\n",
        "    momentoFletor.append(derivada2_centrada(X,tabelaY) * E*I) # nesse loop já podemos calcular o momento fletor\n",
        "\n",
        "## Essas prox. linhas calculará o momento fletor nas bordas \n",
        "momentoFletor.insert(0, derivada1_avancada(0,Inclinacao) * E*I) # utilizamos a avançada pois é o primeiro elemento\n",
        "momentoFletor.append(derivada1_atrasada(8,Inclinacao) * E*I) # utilizamos a atrasada pois é o último elemento\n",
        "\n",
        "for momento in range(0,9):\n",
        "    if momento == 0:\n",
        "      tensao.append(derivada1_avancada(momento,momentoFletor)) # utilizamos a avançada pois é o primeiro elemento\n",
        "    elif momento == 8:\n",
        "      tensao.append(derivada1_atrasada(momento,momentoFletor)) # utilizamos a atrasada pois é o último elemento\n",
        "    else:   \n",
        "      tensao.append(derivada1_centrada(momento,momentoFletor)) # para o resto da tabela é preferivel utilizar a centrada pois oferece uma melhor aproximação\n",
        "      cargaDistribuida.append(derivada2_centrada(momento,momentoFletor) * -1) # nesse loop já podemos calcular o momento fletor\n",
        "## Essas prox. linhas calculará o momento fletor nas bordas \n",
        "cargaDistribuida.insert(0,derivada1_avancada(0,tensao) * -1) # utilizamos a avançada pois é o primeiro elemento\n",
        "cargaDistribuida.append(derivada1_atrasada(8,tensao) * -1) # utilizamos a atrasada pois é o último elemento\n",
        "\n",
        "print(f'{\" \":40}',\"TABELA DE DADOS\")\n",
        "print(\"\")\n",
        "print(f'{\" \":5}',f'{\"INCLINAÇÃO\":25}', f'{\"MOMENTO FLETOR\":25}', f'{\"CARGA DISTRIBUIDA\":30}', \"TENSÃO\")\n",
        "print(\"\")\n",
        "for index in range(0,9):\n",
        "  print(f'{Inclinacao[index]:20}', \"  |  \", momentoFletor[index], \"  |   \",f'{cargaDistribuida[index]:20}', \"   |   \", tensao[index])\n",
        "\n",
        "print(\"\")\n",
        "print(\"Resposta: Haverá maiores chances de fratura no terceiro ponto de avaliação, onde existe a maior tensão de cisalhamento da viga.\")"
      ]
    },
    {
      "attachments": {},
      "cell_type": "markdown",
      "metadata": {
        "id": "isWQBJ32XORa"
      },
      "source": [
        "## Relatório\n",
        "\n",
        "Os detalhes do desenvolvimento e implementações das tarefas estão comentadas no código.\n",
        "\n",
        "T2: Os erros foram calculados utilizando as diferentes aproximações da derivadas, e como apresentado podemos ver que os erros são muito similares\n",
        " e muito próximos dos valores da derivadas da função apresentada.\n",
        "\n",
        "T3: A partir do cálculo da inclinação, momento fletor, carga distribuida e tensão, foi concluido que onde existe a maior tensão de cisalhamento é onde terá a maior chance de fratura da viga."
      ]
    }
  ],
  "metadata": {
    "colab": {
      "provenance": []
    },
    "gpuClass": "standard",
    "kernelspec": {
      "display_name": "Python 3",
      "language": "python",
      "name": "python3"
    },
    "language_info": {
      "codemirror_mode": {
        "name": "ipython",
        "version": 3
      },
      "file_extension": ".py",
      "mimetype": "text/x-python",
      "name": "python",
      "nbconvert_exporter": "python",
      "pygments_lexer": "ipython3",
      "version": "3.10.4"
    },
    "vscode": {
      "interpreter": {
        "hash": "5fe3e6f0cdaab8afdc61c52912fda83f7c0a71baaea1897dd7498e2df01e69ec"
      }
    }
  },
  "nbformat": 4,
  "nbformat_minor": 0
}
