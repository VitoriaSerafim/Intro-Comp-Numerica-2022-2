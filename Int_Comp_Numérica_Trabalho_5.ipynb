{
  "cells": [
    {
      "cell_type": "markdown",
      "metadata": {
        "id": "MSRVgJX_J3Nf"
      },
      "source": [
        "#Trabalho prático # 5\n",
        "##Introdução à Computação Numérica\n",
        "\n",
        "###Tópico: Solução de Problemas de Valor Inicial (PVI)\n",
        "\n",
        "---\n",
        "\n",
        "Nome: Vitória de Souza Serafim\n",
        "\n",
        "\n",
        "\n",
        "---\n",
        "\n",
        "**Instruções:** \n",
        "\n",
        "**Preencha o notebook** com seus dados, seus códigos e **rode todos os códigos** \n",
        "\n",
        "**Inclua  um relatório, na parte final do notebook,** com suas conclusões, respostas, observações e comentários relacionados com os tópicos e questões abordadas nas tarefas.  \n",
        "\n",
        "**A elaboração dos códigos pode ser realizada em duplas, mas o resto do trabalho é individual.**\n",
        "\n",
        "*Se você fez o seu trabalho em dupla inclua essa informação no relatório. Além disso, se você  também recebeu ajuda de um(a) colega/amigo(a) ou consultou/usou informações da internet ou outras fontes, coloque referências à elas no seu relatório.*\n",
        "\n",
        "\n",
        "**Entrega do trabalho:**\n",
        "\n",
        "*Data de entrega: 03/janeiro/2023* \n",
        "\n",
        "---\n"
      ]
    },
    {
      "cell_type": "markdown",
      "metadata": {
        "id": "Ud-A5dLPQsTx"
      },
      "source": [
        "## Tarefa #1:\n",
        "\n",
        " Desenvolver códigos, na forma de funções que implementem: \n",
        "\n",
        "a) O Método de Euler. \n",
        "\n",
        "b) O Método  de Euler aperfeiçoado (ou Método de Heun). \n",
        "\n",
        "c) O Método de Runge-Kutta clássico de quarta ordem.\n",
        "\n"
      ]
    },
    {
      "cell_type": "code",
      "execution_count": 2,
      "metadata": {
        "id": "xYMkiJiYXcPS"
      },
      "outputs": [],
      "source": [
        "### importação do numpy\n",
        "import numpy as np"
      ]
    },
    {
      "cell_type": "code",
      "execution_count": 3,
      "metadata": {
        "id": "jK7hw9i2Onjt"
      },
      "outputs": [],
      "source": [
        "# Função correspondente ao item a) \n",
        "####################################\n",
        "# Metodo de Euler para o PVI\n",
        "####################################\n",
        "\n",
        "def met_euler( f, t0, tf, x0, np ):\n",
        "    \n",
        "    # listas para armazenar a discretização do intervalo \n",
        "    # e as aproximações da solução\n",
        "    t = [t0]\n",
        "    x = [x0]\n",
        "    tn = t0\n",
        "    xn = x0\n",
        "    \n",
        "    # tamanho do passo no tempo\n",
        "    dt = float(tf-t0)/np\n",
        "\n",
        "    # laço para o avanço no tempo\n",
        "    for n in range(np):\n",
        "        # calculo da solução aproximada\n",
        "        xn = xn + dt*f(tn,xn)\n",
        "        # atualização do valor do tempo\n",
        "        tn = tn + dt\n",
        "        \n",
        "        # anexando os valores calculados nas listas\n",
        "        x.append(xn)\n",
        "        t.append(tn)\n",
        "   \n",
        "    return [t, x]\n",
        "\n",
        "#####################################"
      ]
    },
    {
      "cell_type": "code",
      "execution_count": 4,
      "metadata": {
        "id": "0OcP16TOOxMX"
      },
      "outputs": [],
      "source": [
        "### Função correspondente ao item b) \n",
        "##############################################\n",
        "# Metodo de Heun (ou Euler melhorado) para o PVI\n",
        "##############################################\n",
        "\n",
        "def met_heun( f, t0, tf, x0, np ):\n",
        "    \n",
        "    t = [t0]\n",
        "    x = [x0]\n",
        "    tn = t0\n",
        "    x1n = x0\n",
        "    \n",
        "    dt = float(tf-t0)/np\n",
        "\n",
        "    for n in range(np):\n",
        "        xe = x1n + dt*f(tn, x1n)\n",
        "        \n",
        "        x1n = x1n + dt/2*(f(tn, x1n)+f(tn+dt, xe))\n",
        "        tn = tn + dt\n",
        "        \n",
        "        x.append(x1n)\n",
        "        t.append(tn)\n",
        "   \n",
        "    return [t, x]\n",
        "\n",
        "#####################################"
      ]
    },
    {
      "cell_type": "code",
      "execution_count": 22,
      "metadata": {
        "id": "ma3CCBpuLyMG"
      },
      "outputs": [],
      "source": [
        "# Função correspondente ao item c) \n",
        "##############################################\n",
        "# Metodo de Runge-Kutta (de ordens superiores) para o PVI\n",
        "##############################################\n",
        "\n",
        "def RK4Ordem( f, t0, tf, x0, n ):\n",
        "\n",
        "  t = [t0]\n",
        "  x = [x0]\n",
        "  tn = t0\n",
        "  x1n = x0  \n",
        "\n",
        "  dt = float(tf-t0)/n\n",
        "\n",
        "  for i in range(n):\n",
        "    \n",
        "    k1 = dt * f( tn,x1n )\n",
        "    k2 = dt * f( tn + dt/2 , x1n + (k1/2) )\n",
        "    k3 = dt * f( tn + dt/2 , x1n + (k2/2) )\n",
        "    k4 = dt * f( tn + dt , x1n + k3 )\n",
        "\n",
        "    x1n = x1n + ( 1/6 * (k1 + 2*k2 + 2*k3 +k4))\n",
        "    tn = tn + dt\n",
        "    \n",
        "    x.append(x1n)\n",
        "    t.append(tn)\n",
        "\n",
        "  return [t, x]\n",
        "  \n",
        "#####################################"
      ]
    },
    {
      "cell_type": "markdown",
      "metadata": {
        "id": "7tYAya4HLflB"
      },
      "source": [
        "\n",
        "## Tarefa #2: Paraquedista em queda livre\n",
        "\n",
        "Utilize os seus códigos (da tarefa anterior, itens a), b) e c) ) para responder a seguinte questão.   \n",
        "**Qual será a velocidade vertical atingida  por um paraquedista em queda livre (a velocidade inicial é nula), $25\\,s$ após o salto?**\n",
        "\n",
        "\n",
        "a) Considere que a taxa de variação instantânea da velocidade do paraquedista é dada pela EDO\n",
        "$$\\frac{dv}{dt}=g-\\frac{c}{m} v, $$\n",
        "onde $g=9.8\\,m/s^2$ é a aceleração da gravidade, $m=75\\,kg$ é a massa do paraquedista e $c=12.5\\,kg/s$ é o coeficiente de arrasto correspondente ao paraquedas. \n",
        "\n",
        "Para cada método implementado determine um número de passos tal que o erro na aproximação da velocidade final $v(25)$ seja inferior a $10^{-2}$, se sabemos que o valor exato da velocidade  pode ser calculado pela fórmula\n",
        "$$v(t) = \\frac{gm}{c}\\left( 1-e^{-(c/m)t}\\right).$$\n",
        "\n",
        "Dica: Isto poderá ser feito por tentativa e erro.\n",
        "\n",
        "b) Considere uma outra lei para a taxa de variação instantânea da velocidade do paraquedista dada pela EDO\n",
        "$$\\frac{dv}{dt}=g-\\frac{C(v)}{m} v, $$\n",
        "onde a função empiríca $C(v)$ que caracteriza a resistência do paraquedas é dada por \n",
        "$$C(v) = c\\left[1+\\alpha \\left(\\frac{v}{v_{max}}\\right)^\\beta\\right],$$\n",
        "em que $c=12.5\\,kg/s$, $\\alpha=0.2$, $\\beta =1.1$ e $v_{max} = 46\\,m/s$.  (Observe que no caso $\\alpha=0$ este modelo coincide com o apresentado no item a).)\n",
        "\n",
        "Obtenha a velocidade final usando cada um dos métodos implementados considerando o mesmo número de passos definido no item a)).\n",
        " \n",
        "c) Compare as velocidades obtidas nos itens a) e b). \n"
      ]
    },
    {
      "cell_type": "code",
      "execution_count": 31,
      "metadata": {
        "colab": {
          "base_uri": "https://localhost:8080/"
        },
        "id": "MdDfWSqzQQwJ",
        "outputId": "255aaadb-9a7c-4a56-a2ec-8fe6a08d0296"
      },
      "outputs": [
        {
          "name": "stdout",
          "output_type": "stream",
          "text": [
            "Velocidade: 57.898370544133854\n",
            "Passos: 790\n",
            "Erro: 0.009997135755654085\n"
          ]
        }
      ],
      "source": [
        "## item a) Método de Euler\n",
        "## velocidade\n",
        "import math\n",
        "\n",
        "e = math.e\n",
        "g = 9.8\n",
        "c = 12.5\n",
        "m = 75\n",
        "passo = 0\n",
        "## Função da velocidade\n",
        "def v(t):\n",
        "  return (g * m / c) * (1 - e ** -( (c/m) * t))\n",
        "\n",
        "## Define a função que representa a EDO\n",
        "def f(t,v):\n",
        "  return g - (c/m) * v\n",
        "\n",
        "## Testa valores para determinar o número de passos que satisfaz a função\n",
        "while True:\n",
        "  passo += 1\n",
        "  [t, x]= met_euler(f,0,25,0,passo)\n",
        "  erro = abs(v(t[passo]) - x[passo])\n",
        "  if (erro < 10**(-2) ): break\n",
        "\n",
        "print(\"Velocidade:\", x[passo])\n",
        "print(\"Passos:\", passo)\n",
        "print(\"Erro:\",erro)\n",
        "passo = 0"
      ]
    },
    {
      "cell_type": "code",
      "execution_count": 32,
      "metadata": {
        "colab": {
          "base_uri": "https://localhost:8080/"
        },
        "id": "Po56UEhQYEpX",
        "outputId": "05f1f09e-1f6a-42ac-8f1d-db0ffa3ba77a"
      },
      "outputs": [
        {
          "name": "stdout",
          "output_type": "stream",
          "text": [
            "Velocidade: 57.87850926962627\n",
            "Passos: 35\n",
            "Erro: 0.009864138751979112\n"
          ]
        }
      ],
      "source": [
        "## item a) Método de Heun\n",
        "## Testa valores para determinar o número de passos que satisfaz a função\n",
        "while True:\n",
        "  passo += 1\n",
        "  [t, x]= met_heun(f,0,25,0,passo)\n",
        "  erro = abs(v(t[passo]) - x[passo])\n",
        "  if (erro < 10**-2): \n",
        "    break\n",
        "\n",
        "print(\"Velocidade:\", x[passo])\n",
        "print(\"Passos:\", passo)\n",
        "print(\"Erro:\",erro)\n",
        "passo = 0"
      ]
    },
    {
      "cell_type": "code",
      "execution_count": 33,
      "metadata": {
        "id": "lwuYuTS3YR5u"
      },
      "outputs": [
        {
          "name": "stdout",
          "output_type": "stream",
          "text": [
            "Velocidade: 57.88180552525808\n",
            "Passos: 7\n",
            "Erro: 0.0065678831201694265\n"
          ]
        }
      ],
      "source": [
        "## item a) método de Runge-Kutta\n",
        "## Testa valores para determinar o número de passos que satisfaz a função\n",
        "while True:\n",
        "  passo += 1\n",
        "  [t, x]= RK4Ordem(f,0,25,0,passo)\n",
        "  erro = abs(v(t[passo]) - x[passo])\n",
        "  if (erro < 10**-2): break\n",
        "\n",
        "print(\"Velocidade:\", x[passo])\n",
        "print(\"Passos:\", passo)\n",
        "print(\"Erro:\",erro)\n",
        "\n",
        "passo = 0"
      ]
    },
    {
      "cell_type": "code",
      "execution_count": 44,
      "metadata": {
        "colab": {
          "base_uri": "https://localhost:8080/"
        },
        "id": "c2WETYlnK78k",
        "outputId": "6dda5ff1-5410-49ba-bd21-7384a68c2c11"
      },
      "outputs": [
        {
          "name": "stdout",
          "output_type": "stream",
          "text": [
            "Velocidade: 49.44223533645224\n",
            "Erro: 8.446138071925958\n"
          ]
        }
      ],
      "source": [
        "## item b) Método de Euler\n",
        "## velocidade\n",
        "import math\n",
        "\n",
        "e = math.e\n",
        "g = 9.8\n",
        "c = 12.5\n",
        "m = 75\n",
        "passo = 790\n",
        "\n",
        "## Função da velocidade\n",
        "def v(t):\n",
        "  return (g * m / c) * (1 - e ** -( (c/m) * t))\n",
        "\n",
        "## Função da resistencia do paraquedas\n",
        "def C(k):\n",
        "  coef = 12.5 * ( 1 + (k*0.2/46)**(1.1) ) \n",
        "  return coef\n",
        "## Define a função que representa a EDO\n",
        "def f(t,v):\n",
        "  return g - (C(v)/m) * v\n",
        "\n",
        "## Testa valores para determinar o número de passos que satisfaz a função\n",
        "[t, x]= met_euler(f,0,25,0,passo)\n",
        "erro = abs(v(t[passo]) - x[passo])\n",
        "\n",
        "print(\"Velocidade:\",x[passo])\n",
        "print(\"Erro:\",erro)\n",
        "passo = 0"
      ]
    },
    {
      "cell_type": "code",
      "execution_count": 42,
      "metadata": {
        "colab": {
          "base_uri": "https://localhost:8080/"
        },
        "id": "NojtfwItSSnt",
        "outputId": "4532636f-006c-4c0a-93ca-50065010795c"
      },
      "outputs": [
        {
          "name": "stdout",
          "output_type": "stream",
          "text": [
            "Velocidade: 49.4336902973022\n",
            "Erro: 8.45468311107605\n"
          ]
        }
      ],
      "source": [
        "## item b) Método de Heun\n",
        "## velocidade\n",
        "import math\n",
        "\n",
        "e = math.e\n",
        "g = 9.8\n",
        "c = 12.5\n",
        "m = 75\n",
        "passo = 35\n",
        "\n",
        "## Função da velocidade\n",
        "def v(t):\n",
        "  return (g * m / c) * (1 - e ** -( (c/m) * t))\n",
        "\n",
        "## Função da resistencia do paraquedas\n",
        "def C(k):\n",
        "  coef = c * ( 1 + (k*0.2/46)**(1.1) ) \n",
        "  return coef\n",
        "## Define a função que representa a EDO\n",
        "def f(t,v):\n",
        "  return g - (C(v)/m) * v\n",
        "\n",
        "## Testa valores para determinar o número de passos que satisfaz a função\n",
        "[t, x]= met_heun(f,0,25,0,passo)\n",
        "erro = abs(v(t[passo]) - x[passo])\n",
        "\n",
        "print(\"Velocidade:\",x[passo])\n",
        "print(\"Erro:\",erro)\n",
        "passo = 0"
      ]
    },
    {
      "cell_type": "code",
      "execution_count": 43,
      "metadata": {
        "colab": {
          "base_uri": "https://localhost:8080/"
        },
        "id": "SLU3C_9pShhK",
        "outputId": "792159a7-3d95-4af9-9051-ceef0b3a9c90"
      },
      "outputs": [
        {
          "name": "stdout",
          "output_type": "stream",
          "text": [
            "Velocidade: 49.43162827626715\n",
            "Erro: 8.456745132111102\n"
          ]
        }
      ],
      "source": [
        "## item b) Método de Runge-Kutta\n",
        "## velocidade\n",
        "import math\n",
        "\n",
        "e = math.e\n",
        "g = 9.8\n",
        "c = 12.5\n",
        "m = 75\n",
        "passo = 7\n",
        "\n",
        "## Função da velocidade\n",
        "def v(t):\n",
        "  return (g * m / c) * (1 - e ** -( (c/m) * t))\n",
        "\n",
        "## Função da resistencia do paraquedas\n",
        "def C(k):\n",
        "  coef = 12.5 * ( 1 + (k*0.2/46)**(1.1) ) \n",
        "  return coef\n",
        "## Define a função que representa a EDO\n",
        "def f(t,v):\n",
        "  return g - (C(v)/m) * v\n",
        "\n",
        "## Testa valores para determinar o número de passos que satisfaz a função\n",
        "[t, x]= RK4Ordem(f,0,25,0,passo)\n",
        "erro = abs(v(t[passo]) - x[passo])\n",
        "\n",
        "print(\"Velocidade:\",x[passo])\n",
        "print(\"Erro:\",erro)\n",
        "passo = 0"
      ]
    },
    {
      "cell_type": "markdown",
      "metadata": {
        "id": "3oYuYZILVvhL"
      },
      "source": [
        "## Tarefa #3: Dinâmica predador-presa\n",
        "\n",
        "Para modelar a dinâmica de das populações de duas espécies que interagem: uma como predadora e a outra  como  presa, é usado o seguinte sistema de duas EDOs conhecido como equações de Lotka-Volterra:\n",
        "\n",
        "$$\n",
        "\\left\\{\n",
        "\\begin{aligned}\n",
        "\\frac{d x_1}{dt} &= a x_1-b x_1 x_2\\\\\n",
        "\\frac{d x_2}{dt} &= -c x_2 + d x_1 x_2\n",
        "\\end{aligned}\n",
        "\\right.\n",
        "$$\n",
        "\n",
        "onde $x_1$ e $x_2$ representam o número de presas e predadores, respectivamente, $t$ o tempo e $a$, $b$, $c$, $d$ são coeficientes constantes que caracterizam o crescimento e a interação das populações de presas e predadores.\n",
        " \n",
        "Considere que a dinâmica das populações de alces e lobos de uma região pode ser modelada pelo sistema de Lotka-Volterra com os coeficientes $a=0.3$, $b=0.01111$, $c=0.2106$, $d=0.0002632$. Se inicialmente na região haviam $705$ alces e  $25$ lobos, qual será o tamanho dessas populações  após $20\\, anos$?\n",
        "\n",
        "Utilize o seu código do método de RK de $4^a$ ordem (tarefa #1, item c)) para responder a essa questão. Procure uma aproximação com erro estimado inferior a $0.05$. Explique. "
      ]
    },
    {
      "cell_type": "code",
      "execution_count": 12,
      "metadata": {},
      "outputs": [],
      "source": [
        "def RungeK4Ordem( f, t0, tf, x0, n ):\n",
        "  dt = float(tf-t0)/n\n",
        "\n",
        "  t = t0\n",
        "  x = x0\n",
        "\n",
        "  k1 = dt*f(t0,x0)\n",
        "  k2 = dt*f(t0+dt/2,x0+k1/2)\n",
        "  k3 = dt*f(t0+dt/2,x0+k2/2)\n",
        "  k4 = dt*f(t0+dt,x0+k3)\n",
        "\n",
        "  x = x + ( 1/6 * (k1 + 2*k2 + 2*k3 +k4))\n",
        "  t = t + dt\n",
        "\n",
        "  return x, t"
      ]
    },
    {
      "cell_type": "code",
      "execution_count": 47,
      "metadata": {
        "id": "6Kmmzgkjq_YL"
      },
      "outputs": [
        {
          "name": "stdout",
          "output_type": "stream",
          "text": [
            "Presas: 689.7017347905803\n",
            "Predadores: 394.8098058868576\n"
          ]
        }
      ],
      "source": [
        "a=0.3\n",
        "b=0.01111\n",
        "c=0.2106\n",
        "d=0.0002632\n",
        "\n",
        "def f(t,p):\n",
        "    x = p[0]\n",
        "    y = p[1]\n",
        "    dx = a*x - b*x*y\n",
        "    dy = c*x*y - d*y\n",
        "    return np.array([dx,dy], float)\n",
        "\n",
        "t0 = 0\n",
        "tf = 20 # Crescimento em 20 anos\n",
        "x0 = np.array([705,25], float) # 705 presas e 25 predadores\n",
        "N = 1000 # números de passos\n",
        "\n",
        "predador_prey, t = RungeK4Ordem( f, t0, tf, x0, N )\n",
        "\n",
        "print(\"Presas:\",predador_prey[0])\n",
        "print(\"Predadores:\",predador_prey[1])"
      ]
    },
    {
      "attachments": {},
      "cell_type": "markdown",
      "metadata": {
        "id": "isWQBJ32XORa"
      },
      "source": [
        "## Relatório\n",
        "\n",
        "A explicação do desenvolvimento e implementação das tarefas foi feita no próprio código.\n",
        "\n",
        "T1 - Implementações\n",
        "\n",
        "Os códigos de Euler e Heun foram retirados do google colab da aula de PVI. E seguindo as fórmulas do slide de aula, foi implementado a função de runge-kutta.\n",
        "\n",
        "T2 - Paraquedista\n",
        "\n",
        "Como demostrado no código referente a implemetação da tarefa, houve uma diferença entre as respostas encontradas e o número de passos exigidos pelas funções. As velocidades encontradas foram bem similares mas a função que apresentou o melhor resultado foi o Runge-kutta com 7 passos. Já os métodos de Heun e Euler apresentaram respectivamente 25 e 790 passos, sendo o método de Euler com o pior resultado, apresentando o maior nº de passos e o maior erro.\n",
        "Isso deve-se a ordem das implementações, como Runge-Kutta é uma função de quarta ordem e as funções de Heun e Euler tem ordens inferiores, ele possui o melhor resultado entre as implementações.\n",
        "\n",
        "Na letra b), inserimos agora uma função para calcular a resistência do paraquedas. Assim, possuimos uma diminuição na velocidade do paraquedista durante a queda. Obtemos o seguinte resultado:\n",
        "\n",
        "Euler: 49.44223533645224\n",
        "\n",
        "Heun: 49.4336902973022\n",
        "\n",
        "Runge- Kutta: 49.43162827626715\n",
        "\n",
        "E como esperado encontramos velocidades e erros similares em todas as funções.\n",
        "\n",
        "\n",
        "T3 - predador-presa\n",
        "\n",
        "A função utilizada consiste no método Runge-Kutta de quarta ordem, adaptado para utilizarmos na equação de Lotka-Volterra.\n",
        "A implementação utilizou os dados oferecidos no enunciado e um N razoavelmente grande (1000 passos) e encontramos uma diminuição das presas e aumento dos predadores. A função funciona da seguinte maneira: quando o número de presas vai diminuindo, a quantidade de predadores aumenta, mas quando existe um aumento considerável de algumas das espécies a outra diminui, e freia o crescimento da outra - E assim por diante.\n",
        " "
      ]
    }
  ],
  "metadata": {
    "colab": {
      "provenance": []
    },
    "gpuClass": "standard",
    "kernelspec": {
      "display_name": "Python 3",
      "language": "python",
      "name": "python3"
    },
    "language_info": {
      "codemirror_mode": {
        "name": "ipython",
        "version": 3
      },
      "file_extension": ".py",
      "mimetype": "text/x-python",
      "name": "python",
      "nbconvert_exporter": "python",
      "pygments_lexer": "ipython3",
      "version": "3.10.4"
    },
    "vscode": {
      "interpreter": {
        "hash": "5fe3e6f0cdaab8afdc61c52912fda83f7c0a71baaea1897dd7498e2df01e69ec"
      }
    }
  },
  "nbformat": 4,
  "nbformat_minor": 0
}
