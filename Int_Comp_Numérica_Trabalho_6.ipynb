{
  "cells": [
    {
      "cell_type": "markdown",
      "metadata": {
        "id": "MSRVgJX_J3Nf"
      },
      "source": [
        "#Trabalho prático # 6\n",
        "##Introdução à Computação Numérica\n",
        "\n",
        "###Tópico: Cálculo de zeros de funções\n",
        "\n",
        "---\n",
        "\n",
        "Nome: Vitória de Souza Serafim\n",
        "\n",
        "DRE: 120035369\n",
        "\n",
        "\n",
        "---\n",
        "\n",
        "**Instruções:** \n",
        "\n",
        "**Preencha o notebook** com seus dados, seus códigos e **rode todos os códigos** \n",
        "\n",
        "**Inclua  um relatório, na parte final do notebook,** com suas conclusões, respostas, observações e comentários relacionados com os tópicos e questões abordadas nas tarefas.  \n",
        "\n",
        "**A elaboração dos códigos pode ser realizada em duplas, mas o resto do trabalho é individual.**\n",
        "\n",
        "*Se você fez o seu trabalho em dupla inclua essa informação no relatório. Além disso, se você  também recebeu ajuda de um(a) colega/amigo(a) ou consultou/usou informações da internet ou outras fontes, coloque referências à elas no seu relatório.*\n",
        "\n",
        "\n",
        "**Entrega do trabalho:**\n",
        "\n",
        "*Data de entrega: 03/janeiro/2023* \n",
        "\n",
        "---\n"
      ]
    },
    {
      "cell_type": "markdown",
      "metadata": {
        "id": "Ud-A5dLPQsTx"
      },
      "source": [
        "## Tarefa #1:\n",
        "\n",
        " Desenvolver códigos, na forma de funções, que implementem os seguintes métodos:\n",
        "\n",
        "a) Método da bissecção. \n",
        "\n",
        "b) Método de Newton-Raphson.  \n",
        "\n",
        "c) Método da secante.\n",
        "\n",
        "Sugestão: implemente os métodos na forma de funções que devolvem na saída uma mensagem de erro ou o valor aproximado do zero procurado. Evite a possibilidade de laços infinitos considerando um número máximo de iterações como parâmetro de entrada.\n"
      ]
    },
    {
      "cell_type": "code",
      "execution_count": 1,
      "metadata": {
        "id": "C9fdMEhIRhUi"
      },
      "outputs": [],
      "source": [
        "import math"
      ]
    },
    {
      "cell_type": "code",
      "execution_count": 22,
      "metadata": {
        "id": "jK7hw9i2Onjt"
      },
      "outputs": [],
      "source": [
        "# Item a) \n",
        "def met_bissec(f,a,b,tol,n_max):\n",
        "  k = 1\n",
        "  fa = f(a)\n",
        "  while (k <= n_max):\n",
        "    p = a +(b-a)/2\n",
        "    fp = f(p)\n",
        "    if (fp  == 0) or ((b-a)/2 < tol): break\n",
        "    if (fa * fp > 0):\n",
        "      a = p\n",
        "      fa = fp\n",
        "    else: b = p\n",
        "    k = k + 1\n",
        "\n",
        "  if(k > n_max): return \"Tolerância máxima atingida\" \n",
        "  else: return p,k \n"
      ]
    },
    {
      "cell_type": "code",
      "execution_count": 21,
      "metadata": {
        "id": "0OcP16TOOxMX"
      },
      "outputs": [],
      "source": [
        "# Item b) \n",
        "def met_newtonRaphson(f, df, p0, tol, n_max):\n",
        "  k = 1\n",
        "  while (k <= n_max):\n",
        "     p = p0 - f(p0)/df(p0)\n",
        "     if( abs(p-p0) < tol): break\n",
        "     p0 = p\n",
        "     k = k + 1\n",
        "\n",
        "  if(k > n_max): return \"Tolerância máxima atingida\" \n",
        "  else: return p,k\n"
      ]
    },
    {
      "cell_type": "code",
      "execution_count": 23,
      "metadata": {
        "id": "iZxnSoTJpEb7"
      },
      "outputs": [],
      "source": [
        "# Item c) \n",
        "def met_secante(f,p0,p1,tol,n_max):\n",
        "  k = 1\n",
        "  while (k <= n_max):\n",
        "    p = p1 - f(p1)*(p1-p0)/(f(p1) - f(p0)) \n",
        "    if ( abs(p - p1) < tol ): break\n",
        "    p0 = p1\n",
        "    p1 = p\n",
        "    k = k + 1\n",
        "\n",
        "  if(k > n_max): return \"Tolerância máxima atingida\" \n",
        "  else: return p,k\n"
      ]
    },
    {
      "cell_type": "markdown",
      "metadata": {
        "id": "7tYAya4HLflB"
      },
      "source": [
        "\n",
        "## Tarefa #2: \n",
        "\n",
        "\n",
        "a) A equação de van der Waals \n",
        "           \t\t$$\\left(p+\\frac{a}{v^2} \\right)(v-b)=R T,$$\n",
        "\n",
        "onde $p$ é a pressão, $v$ representa o volume molar, $a$ e $b$ são constantes empíricas que dependem do gás,  $R$ representa a constante universal dos gases e $T$ é a temperatura absoluta. \n",
        "Determine os volumes molares do dióxido de carbono a uma temperatura  absoluta $T=300\\,K$ e pressão de $1$, $10$, $50$ e $100 \\,atm$, respectivamente. \n",
        "Os valores das constantes são $R=0.082054 \\,L\\, atm/(mol K)$, $a=3.592 \\,L^2 atm/mol^2$ e $b=0.04267 L/mol$.\n",
        "\n",
        "Use dois dos métodos implementados considerando uma tolerância $\\varepsilon=5\\cdot10^{-6}$.\n",
        "\n",
        "b) Compare os resultados dos dois métodos usados, considerando os valores obtidos e a quantidade de iterações realizadas. Escreva suas observações no relatório.\n"
      ]
    },
    {
      "cell_type": "code",
      "execution_count": 31,
      "metadata": {
        "id": "MdDfWSqzQQwJ"
      },
      "outputs": [
        {
          "name": "stdout",
          "output_type": "stream",
          "text": [
            "Listas com os volumes molares, de acordo com as pressões 1,10,50,100 respectivamente: \n",
            "Método bissec: [(24.512590664958953, 23), (2.354496336097718, 19), (0.3584236658020019, 17), (0.07950974874877931, 16)]\n",
            "Método secante: [(24.512588128506895, 3), (2.354495580708673, 4), (0.35842109341765416, 6), (0.07951082789270973, 11)]\n"
          ]
        }
      ],
      "source": [
        "# Item a)\n",
        "######################################\n",
        "## variaveis que serão utilizadas\n",
        "R = 0.082054\n",
        "T = 300\n",
        "a = 3.592\n",
        "b = 0.04267\n",
        "tol = 5 * (10 **(-6))\n",
        "valores_pressao = [1,10,50,100]\n",
        "lista1 = []\n",
        "lista2 = []\n",
        "\n",
        "## função para a equação de van der waals\n",
        "def van_der_Waals(v):\n",
        "    return (p + a / (v ** 2)) * (v - b) - R * T\n",
        "\n",
        "## Loop para calcular o volume molar de acordo com a pressão\n",
        "## As pressões foram armazenadas em uma lista\n",
        "\n",
        "for pressao in valores_pressao:\n",
        "    p = pressao\n",
        "    lista1.append(met_bissec(van_der_Waals, 0.001, (R*T)/p, tol, 100))\n",
        "    lista2.append(met_secante(van_der_Waals, 0.001, (R*T)/p, tol, 100))\n",
        "\n",
        "print(\"Listas com os volumes molares, de acordo com as pressões 1,10,50,100 respectivamente: \")\n",
        "print(f\"Método bissec:\",lista1)\n",
        "print(f\"Método secante:\",lista2)\n",
        "##########################################"
      ]
    },
    {
      "attachments": {},
      "cell_type": "markdown",
      "metadata": {
        "id": "_tnziy1_QN7q"
      },
      "source": [
        "## Tarefa #3: \n",
        "\n",
        "Observe que o número $\\pi$ é um zero das funções:\n",
        "\n",
        "i) $f(x)= \\cos(x)+1$\n",
        "\n",
        "ii) $f(x)= \\mathrm{sen}(x)$\n",
        "\n",
        "a) Use sua implementação do método de Newton-Raphson para obter aproximações de considerando as funções acima e uma tolerância $\\varepsilon =10^{-16}$.\n",
        "\n",
        "b) Compare os resultados dos itens i) e ii), considerando os erros das aproximações obtidas com relação ao valor \"exato\" dado pelo Python no módulo math e a quantidade de iterações efetuadas. Escreva suas observações no relatório.\n",
        "\n",
        "c) Explique o que foi observado no item b) no seu relatório.\n"
      ]
    },
    {
      "cell_type": "code",
      "execution_count": 27,
      "metadata": {
        "id": "EeBLhaNnRZS8"
      },
      "outputs": [
        {
          "name": "stdout",
          "output_type": "stream",
          "text": [
            "Tolerância máxima atingida\n",
            "Função I: (3.14159265109478, 26)\n",
            "Função II: (3.141592653589793, 4)\n"
          ]
        }
      ],
      "source": [
        "# Código para resolver o problema da questão a)\n",
        "##############################################\n",
        "tol = 10**(-16)\n",
        "\n",
        "## Função I e sua derivada\n",
        "def f1(x): \n",
        "    return math.cos(x)+1\n",
        "def df1(x): \n",
        "    return -math.sin(x)\n",
        "\n",
        "## Função II e sua derivada\n",
        "def f2(x): \n",
        "    return math.sin(x)\n",
        "def df2(x): \n",
        "    return math.cos(x) \n",
        "\n",
        "\n",
        "print(met_newtonRaphson(f1,df1,3,tol,10)) ## Para n = 10, a função I não convergiu\n",
        "print(\"Função I:\",met_newtonRaphson(f1,df1,3,tol,100)) ## aumentando o número de laços, a função I funciona\n",
        "print(\"Função II:\",met_newtonRaphson(f2,df2,3,tol,10)) ## Para n = 10, a função II convergiu\n",
        "\n",
        "\n",
        "###############################################"
      ]
    },
    {
      "cell_type": "code",
      "execution_count": 19,
      "metadata": {
        "id": "eV41TV4jWBLO"
      },
      "outputs": [
        {
          "name": "stdout",
          "output_type": "stream",
          "text": [
            "Erro da primeira função:  2.4950130850243113e-09\n",
            "Erro da segunda função:  0.0\n"
          ]
        }
      ],
      "source": [
        "# Código para resolver o problema da questão b)\n",
        "erro1 = abs(math.pi - 3.14159265109478)\n",
        "erro2 = abs(math.pi - 3.141592653589793)\n",
        "\n",
        "print(f\"Erro da primeira função: \",erro1)\n",
        "print(f\"Erro da segunda função: \", erro2)"
      ]
    },
    {
      "attachments": {},
      "cell_type": "markdown",
      "metadata": {
        "id": "isWQBJ32XORa"
      },
      "source": [
        "## Relatório\n",
        "T1: Implementações\n",
        "\n",
        "As implementações são baseadas nos algoritmos retirados do slide da Aula de Cálculo de zeros de funções - prof. Daniel G. Alfaro\n",
        "\n",
        "\n",
        "T2: Van der Walls\n",
        "\n",
        "Foram utilizados os métodos de Bissecção e Secante para esta atividade. Os resultados encontrados mostraram que ambas as funções encontram resultados semelhantes, mas a implementação do método da Secante foi mais eficiente, precisando de menos iterações para encontrar o volume molar.\n",
        "Além disso, na tarefa foi utilizado um número máximo = 100 passos, mas para passos menores como N = 20 a função de Bissecção não converge.\n",
        "\n",
        "T3: Encontrando Pi\n",
        "\n",
        "Como o método de Newton-raphson precisa precisa de um chute inicial para fazer as iterações, escolhi um chute inicial próximo da raiz, portanto, escolhi p0 = 3. (Já que queremos achar pi como raiz)\n",
        "\n",
        "Como demostrado na célula de código, o método de Newton-Raphson executa de maneira diferentes as funções I e II. Para a primeira função, se for inserido um número de passos baixo, como por exemplo, n = 10, a função não converge  - precisando de mais iterações para o método funcionar. Em oposição, a função II funciona corretamente, e como mostrado código o erro encontrado é de 0.0 - enquanto a função I encontra um erro pequeno. Um possível motivo para o não funcionamento da função, pode estar relacionado a derivada da função - se ela estiver próxima de zero teremos problemas com a convergência."
      ]
    }
  ],
  "metadata": {
    "colab": {
      "provenance": []
    },
    "gpuClass": "standard",
    "kernelspec": {
      "display_name": "Python 3",
      "language": "python",
      "name": "python3"
    },
    "language_info": {
      "codemirror_mode": {
        "name": "ipython",
        "version": 3
      },
      "file_extension": ".py",
      "mimetype": "text/x-python",
      "name": "python",
      "nbconvert_exporter": "python",
      "pygments_lexer": "ipython3",
      "version": "3.10.4"
    },
    "vscode": {
      "interpreter": {
        "hash": "5fe3e6f0cdaab8afdc61c52912fda83f7c0a71baaea1897dd7498e2df01e69ec"
      }
    }
  },
  "nbformat": 4,
  "nbformat_minor": 0
}
